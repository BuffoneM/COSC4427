{
 "cells": [
  {
   "cell_type": "markdown",
   "metadata": {},
   "source": [
    "# <span style=\"color:Blue\">Assignment-2 of COSC442721SP: Data Science with Python</span>"
   ]
  },
  {
   "cell_type": "markdown",
   "metadata": {},
   "source": [
    "# <span style=\"color:Blue\">Due: Saturday, June 12, 2021, @11:59 PM</span>"
   ]
  },
  {
   "cell_type": "markdown",
   "metadata": {},
   "source": [
    "### <span style=\"color:Red\">Write your python functions/modules in the given cells below for Problems 1 to 8. You can use the previously developed functions/results/values from this notebook for the later problems. Do not use NumPy, pandas, or any packages/libraries/modules for Problems 1 to 8.</span>"
   ]
  },
  {
   "cell_type": "markdown",
   "metadata": {},
   "source": [
    "# <span style=\"color:Green\">P1: Generate a list named `num_list` with 50 random distinct integers in between 1 and 500. Use Python's built-in random module.</span>"
   ]
  },
  {
   "cell_type": "code",
   "execution_count": 1,
   "metadata": {},
   "outputs": [
    {
     "name": "stdout",
     "output_type": "stream",
     "text": [
      "[404, 34, 49, 188, 358, 293, 356, 154, 322, 179, 184, 185, 118, 493, 352, 321, 476, 43, 414, 329, 130, 173, 64, 441, 301, 487, 219, 44, 448, 313, 461, 301, 424, 182, 417, 307, 91, 69, 177, 207, 440, 244, 411, 284, 50, 300, 76, 181, 326, 157]\n"
     ]
    }
   ],
   "source": [
    "#Codes of P1 goes here\n",
    "import random\n",
    "import math\n",
    "\n",
    "num_list = [random.randrange(1,500) for i in range(0, 50)]\n",
    "#num_list = [5,4,3,2,1]         # Testing purposes\n",
    "print(num_list)"
   ]
  },
  {
   "cell_type": "markdown",
   "metadata": {},
   "source": [
    "# <span style=\"color:Green\">P2: Find and print the largest integer from `num_list`.</span>"
   ]
  },
  {
   "cell_type": "code",
   "execution_count": 2,
   "metadata": {},
   "outputs": [
    {
     "name": "stdout",
     "output_type": "stream",
     "text": [
      "Largest: 493\n"
     ]
    }
   ],
   "source": [
    "#Codes of P2 goes here\n",
    "largestValue = max(num_list)\n",
    "print(\"Largest:\", largestValue)"
   ]
  },
  {
   "cell_type": "markdown",
   "metadata": {},
   "source": [
    "# <span style=\"color:Green\">P3: Find and print the smallest integer from `num_list`.</span>"
   ]
  },
  {
   "cell_type": "code",
   "execution_count": 3,
   "metadata": {},
   "outputs": [
    {
     "name": "stdout",
     "output_type": "stream",
     "text": [
      "Smallest: 34\n"
     ]
    }
   ],
   "source": [
    "#Codes of P3 goes here\n",
    "smallestValue = min(num_list)\n",
    "print(\"Smallest:\", smallestValue)"
   ]
  },
  {
   "cell_type": "markdown",
   "metadata": {},
   "source": [
    "# <span style=\"color:Green\">P4: Find and print the second largest integer from `num_list`.</span>"
   ]
  },
  {
   "cell_type": "code",
   "execution_count": 4,
   "metadata": {},
   "outputs": [
    {
     "name": "stdout",
     "output_type": "stream",
     "text": [
      "2nd largest: 487\n"
     ]
    }
   ],
   "source": [
    "#Codes of P4 goes here\n",
    "temp = list(num_list)\n",
    "temp.remove(max(temp))\n",
    "secLargestValue = max(temp)\n",
    "print(\"2nd largest:\", secLargestValue)"
   ]
  },
  {
   "cell_type": "markdown",
   "metadata": {},
   "source": [
    "# <span style=\"color:Green\">P5: Find and print the second smallest integer from `num_list`.</span>"
   ]
  },
  {
   "cell_type": "code",
   "execution_count": 5,
   "metadata": {},
   "outputs": [
    {
     "name": "stdout",
     "output_type": "stream",
     "text": [
      "2nd smallest: 43\n"
     ]
    }
   ],
   "source": [
    "#Codes of P5 goes here\n",
    "temp = list(num_list)\n",
    "temp.remove(min(temp))\n",
    "secSmallestValue = min(temp)\n",
    "print(\"2nd smallest:\", secSmallestValue)"
   ]
  },
  {
   "cell_type": "markdown",
   "metadata": {},
   "source": [
    "# <span style=\"color:Green\">P6: Find and print the sum and the mean of `num_list`.</span>"
   ]
  },
  {
   "cell_type": "code",
   "execution_count": 6,
   "metadata": {},
   "outputs": [
    {
     "name": "stdout",
     "output_type": "stream",
     "text": [
      "[404, 34, 49, 188, 358, 293, 356, 154, 322, 179, 184, 185, 118, 493, 352, 321, 476, 43, 414, 329, 130, 173, 64, 441, 301, 487, 219, 44, 448, 313, 461, 301, 424, 182, 417, 307, 91, 69, 177, 207, 440, 244, 411, 284, 50, 300, 76, 181, 326, 157]\n",
      "Sum: 12977 \n",
      "Average: 259.54\n"
     ]
    }
   ],
   "source": [
    "#Codes of P6 goes here\n",
    "print(num_list)\n",
    "total = sum(num_list)\n",
    "avg = (total) / (len(num_list))\n",
    "print(\"Sum:\", total, \"\\nAverage:\", avg)"
   ]
  },
  {
   "cell_type": "markdown",
   "metadata": {},
   "source": [
    "# <span style=\"color:Green\">P7: Calculate the variance and standard deviation of `num_list`. Hint: $\\sigma=\\sqrt{\\frac{1}{N}\\sum\\limits_{i=1}^N(x_i-\\mu)^2}$</span>"
   ]
  },
  {
   "cell_type": "code",
   "execution_count": 7,
   "metadata": {},
   "outputs": [
    {
     "name": "stdout",
     "output_type": "stream",
     "text": [
      "Variance: 19042.3684 \n",
      "Standard deviation: 137.9940882791723\n"
     ]
    }
   ],
   "source": [
    "#Codes of P7 goes here\n",
    "sum = 0\n",
    "for num in num_list:\n",
    "    sum += (num - avg) ** 2\n",
    "variance = sum / (len(num_list))\n",
    "stdDev = math.sqrt(variance)\n",
    "print(\"Variance:\", variance, \"\\nStandard deviation:\", stdDev)"
   ]
  },
  {
   "cell_type": "markdown",
   "metadata": {},
   "source": [
    "# <span style=\"color:Green\">P8: Find the median of `num_list`.</span>"
   ]
  },
  {
   "cell_type": "code",
   "execution_count": 8,
   "metadata": {},
   "outputs": [
    {
     "name": "stdout",
     "output_type": "stream",
     "text": [
      "Sorted list: [34, 43, 44, 49, 50, 64, 69, 76, 91, 118, 130, 154, 157, 173, 177, 179, 181, 182, 184, 185, 188, 207, 219, 244, 284, 293, 300, 301, 301, 307, 313, 321, 322, 326, 329, 352, 356, 358, 404, 411, 414, 417, 424, 440, 441, 448, 461, 476, 487, 493]\n",
      "Median: 284\n"
     ]
    }
   ],
   "source": [
    "#Codes of P8 goes here\n",
    "num_list.sort()\n",
    "print(\"Sorted list:\", num_list)\n",
    "median = num_list[int((len(num_list) - 1) / 2)]\n",
    "print(\"Median:\", median)"
   ]
  },
  {
   "cell_type": "markdown",
   "metadata": {},
   "source": [
    "# <span style=\"color:Green\">P9: Repeat Problem 1 using numpy only.</span>"
   ]
  },
  {
   "cell_type": "code",
   "execution_count": 9,
   "metadata": {},
   "outputs": [
    {
     "name": "stdout",
     "output_type": "stream",
     "text": [
      "[309 148 160 452 266 246 252 346 270 188 246 225 483  33 435  85 156 444\n",
      " 284  15 166 272  21 263 346  20  98 364 344 130 135 424 134  38 380 456\n",
      " 362 251 102 127 434 137 188 165 286 473 317 105  86  72]\n"
     ]
    }
   ],
   "source": [
    "#Codes of P11 goes here\n",
    "import numpy as np\n",
    "\n",
    "num_list = np.random.randint(1, 500, 50)\n",
    "#num_list = [5,4,3,2,1]         # Testing purposes\n",
    "print(num_list)"
   ]
  },
  {
   "cell_type": "markdown",
   "metadata": {},
   "source": [
    "# <span style=\"color:Green\">P10: Repeat Problem 2 using numpy only.</span>"
   ]
  },
  {
   "cell_type": "code",
   "execution_count": 10,
   "metadata": {},
   "outputs": [
    {
     "name": "stdout",
     "output_type": "stream",
     "text": [
      "Largest: 483\n"
     ]
    }
   ],
   "source": [
    "#Codes of P12 goes here\n",
    "largestInteger = np.max(num_list)\n",
    "print(\"Largest:\", largestInteger)"
   ]
  },
  {
   "cell_type": "markdown",
   "metadata": {},
   "source": [
    "# <span style=\"color:Green\">P11: Repeat Problem 3 using numpy only.</span>"
   ]
  },
  {
   "cell_type": "code",
   "execution_count": 11,
   "metadata": {},
   "outputs": [
    {
     "name": "stdout",
     "output_type": "stream",
     "text": [
      "Smallest: 15\n"
     ]
    }
   ],
   "source": [
    "#Codes of P13 goes here\n",
    "smallestInteger = np.min(num_list)\n",
    "print(\"Smallest:\", smallestInteger)"
   ]
  },
  {
   "cell_type": "markdown",
   "metadata": {},
   "source": [
    "# <span style=\"color:Green\">P12: Repeat Problem 4 using numpy only.</span>"
   ]
  },
  {
   "cell_type": "code",
   "execution_count": 12,
   "metadata": {},
   "outputs": [
    {
     "name": "stdout",
     "output_type": "stream",
     "text": [
      "2nd largest: 473\n"
     ]
    }
   ],
   "source": [
    "#Codes of P14 goes here\n",
    "secLargestValue = num_list[(np.argsort(num_list)[-2:])[0]]\n",
    "print(\"2nd largest:\", secLargestValue)"
   ]
  },
  {
   "cell_type": "markdown",
   "metadata": {},
   "source": [
    "# <span style=\"color:Green\">P13: Repeat Problem 5 using numpy only.</span>"
   ]
  },
  {
   "cell_type": "code",
   "execution_count": 13,
   "metadata": {},
   "outputs": [
    {
     "name": "stdout",
     "output_type": "stream",
     "text": [
      "2nd smallest: 20\n"
     ]
    }
   ],
   "source": [
    "#Codes of P15 goes here\n",
    "secSmallestValue = num_list[(np.argsort(num_list)[1])]\n",
    "print(\"2nd smallest:\", secSmallestValue)"
   ]
  },
  {
   "cell_type": "markdown",
   "metadata": {},
   "source": [
    "# <span style=\"color:Green\">P14: Repeat Problem 6 using numpy only.</span>"
   ]
  },
  {
   "cell_type": "code",
   "execution_count": 14,
   "metadata": {},
   "outputs": [
    {
     "name": "stdout",
     "output_type": "stream",
     "text": [
      "[309 148 160 452 266 246 252 346 270 188 246 225 483  33 435  85 156 444\n",
      " 284  15 166 272  21 263 346  20  98 364 344 130 135 424 134  38 380 456\n",
      " 362 251 102 127 434 137 188 165 286 473 317 105  86  72]\n",
      "Sum: 11739 \n",
      "Average: 234.78\n"
     ]
    }
   ],
   "source": [
    "#Codes of P16 goes here\n",
    "print(num_list)\n",
    "total = np.sum(num_list)\n",
    "avg = np.average(num_list)\n",
    "print(\"Sum:\", total, \"\\nAverage:\", avg)"
   ]
  },
  {
   "cell_type": "markdown",
   "metadata": {},
   "source": [
    "# <span style=\"color:Green\">P15: Repeat Problem 7 using numpy only.</span>"
   ]
  },
  {
   "cell_type": "code",
   "execution_count": 15,
   "metadata": {},
   "outputs": [
    {
     "name": "stdout",
     "output_type": "stream",
     "text": [
      "Variance: 18329.891600000003 \n",
      "Standard deviation: 135.38793003809462\n"
     ]
    }
   ],
   "source": [
    "#Codes of P17 goes here\n",
    "variance = np.var(num_list)\n",
    "stdDev = np.std(num_list)\n",
    "print(\"Variance:\", variance, \"\\nStandard deviation:\", stdDev)"
   ]
  },
  {
   "cell_type": "markdown",
   "metadata": {},
   "source": [
    "# <span style=\"color:Green\">P16: Repeat Problem 18 using numpy only.</span>"
   ]
  },
  {
   "cell_type": "code",
   "execution_count": 16,
   "metadata": {},
   "outputs": [
    {
     "name": "stdout",
     "output_type": "stream",
     "text": [
      "Median: 246.0\n"
     ]
    }
   ],
   "source": [
    "#Codes of P18 goes here\n",
    "median = np.median(num_list)\n",
    "print(\"Median:\", median)"
   ]
  },
  {
   "cell_type": "markdown",
   "metadata": {},
   "source": [
    "# <span style=\"color:Green\">P19: Repeat Problem 19 using numpy only.</span>"
   ]
  },
  {
   "cell_type": "code",
   "execution_count": 17,
   "metadata": {},
   "outputs": [],
   "source": [
    "#Codes of P19 goes here"
   ]
  },
  {
   "cell_type": "markdown",
   "metadata": {},
   "source": [
    "# <span style=\"color:Green\">P20: Repeat Problem 20 using numpy only.</span>"
   ]
  },
  {
   "cell_type": "code",
   "execution_count": 18,
   "metadata": {},
   "outputs": [],
   "source": [
    "#Codes of P20 goes here"
   ]
  },
  {
   "cell_type": "markdown",
   "metadata": {},
   "source": [
    "### <span style=\"color:Red\">Please note that the submitted work will be considered as your own work and you confirm that you have not received any unauthorized assistance in preparing for or doing this assignment/examination. You confirm knowing that a mark of 0 may be assigned for your entire work.</span>"
   ]
  },
  {
   "cell_type": "markdown",
   "metadata": {},
   "source": [
    "### <span style=\"color:Red\">Submit your completed Jupyter notebook (.ipynb) to Moodle. You can submit multiple times but the grade will be posted based on your latest attempt.</span>"
   ]
  }
 ],
 "metadata": {
  "kernelspec": {
   "display_name": "Python 3",
   "language": "python",
   "name": "python3"
  },
  "language_info": {
   "codemirror_mode": {
    "name": "ipython",
    "version": 3
   },
   "file_extension": ".py",
   "mimetype": "text/x-python",
   "name": "python",
   "nbconvert_exporter": "python",
   "pygments_lexer": "ipython3",
   "version": "3.9.1"
  }
 },
 "nbformat": 4,
 "nbformat_minor": 4
}
